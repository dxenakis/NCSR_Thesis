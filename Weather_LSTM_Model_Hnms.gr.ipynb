{
 "cells": [
  {
   "cell_type": "code",
   "execution_count": 219,
   "metadata": {},
   "outputs": [],
   "source": [
    "import numpy as np\n",
    "import pandas \n",
    "import pandas as pd\n",
    "from elasticsearch import Elasticsearch\n",
    "import json"
   ]
  },
  {
   "cell_type": "code",
   "execution_count": 220,
   "metadata": {},
   "outputs": [],
   "source": [
    "# create a client instance of the library\n",
    "elastic_client = Elasticsearch()\n",
    "\n"
   ]
  },
  {
   "cell_type": "code",
   "execution_count": 221,
   "metadata": {
    "scrolled": false
   },
   "outputs": [
    {
     "name": "stderr",
     "output_type": "stream",
     "text": [
      "C:\\ProgramData\\Anaconda3\\lib\\site-packages\\elasticsearch\\connection\\base.py:190: ElasticsearchDeprecationWarning: [types removal] Specifying types in search requests is deprecated.\n",
      "  warnings.warn(message, category=ElasticsearchDeprecationWarning)\n"
     ]
    }
   ],
   "source": [
    "# Define config and query parameters\n",
    "datalist = []\n",
    "timelist = []\n",
    "humilist = []\n",
    "windlist = []\n",
    "rainlist = []\n",
    "\n",
    "host = \"127.0.0.1\"\n",
    "port = 9200\n",
    "timeout = 1000\n",
    "index = \"weather\"\n",
    "doc_type = \"items\"\n",
    "time_to_search = \"2019-12-31T23:59:00\"\n",
    "weather_source = \"hnms.gr\"\n",
    "size = 10000\n",
    "\n",
    "\n",
    "\n",
    "body={\"from\": 0, \"size\": 10000,\"query\": {\n",
    "    \"bool\": {\n",
    "      \"must\": [\n",
    "        {\"range\": {\n",
    "            \"time\": {\n",
    "                \"lte\": time_to_search\n",
    "            }        \n",
    "            }\n",
    "        },\n",
    "        {\"term\": {\n",
    "             \"source\": weather_source\n",
    "         }\n",
    "        }]}\n",
    "    }\n",
    "  }\n",
    "\n",
    "# Init Elasticsearch instance\n",
    "es = Elasticsearch(\n",
    "    [\n",
    "        {\n",
    "            'host': host,\n",
    "            'port': port\n",
    "        }\n",
    "    ],\n",
    "    timeout=timeout\n",
    ")\n",
    "\n",
    "\n",
    "# Process hits here\n",
    "def process_hits(hits):\n",
    "    #for item in hits:\n",
    "    for key, val in hits[\"hits\"].items():\n",
    "        if key == \"hits\":\n",
    "            for num, doc in enumerate(val):\n",
    "                #if (exists = doc[\"_source\"][\"time\"] in timelist): \n",
    "                #print (num, '-->', doc[\"_source\"][\"temperature\"], \"\\n\")\n",
    "                datalist.append(doc[\"_source\"][\"temperature\"])\n",
    "                timelist.append(doc[\"_source\"][\"time\"])\n",
    "\n",
    "    #print(json.dumps(item, indent=2))\n",
    "\n",
    "\n",
    "\n",
    "# Check index exists\n",
    "if not es.indices.exists(index=index):\n",
    "    print(\"Index \" + index + \" not exists\")\n",
    "    exit()\n",
    "\n",
    "# Init scroll by search\n",
    "data = es.search(\n",
    "    index=index,\n",
    "    doc_type=doc_type,\n",
    "    scroll='2m',\n",
    "    size=size,\n",
    "    body=body\n",
    ")\n",
    "\n",
    "# Get the scroll ID\n",
    "sid = data['_scroll_id']\n",
    "scroll_size = len(data['hits']['hits'])\n",
    "\n",
    "while scroll_size > 0:\n",
    "    \n",
    "    \"Scrolling...\"\n",
    "    \n",
    "    # Before scroll, process current batch of hits\n",
    "    process_hits(data)\n",
    "    \n",
    "    data = es.scroll(scroll_id=sid, scroll='2m')\n",
    "\n",
    "    # Update the scroll ID\n",
    "    sid = data['_scroll_id']\n",
    "    \n",
    "\n",
    "    # Get the number of results that returned in the last scroll\n",
    "    scroll_size = len(data['hits']['hits'])\n",
    "    \n",
    "    \n",
    "\n",
    "\n"
   ]
  },
  {
   "cell_type": "code",
   "execution_count": 222,
   "metadata": {},
   "outputs": [
    {
     "data": {
      "text/html": [
       "<div>\n",
       "<style scoped>\n",
       "    .dataframe tbody tr th:only-of-type {\n",
       "        vertical-align: middle;\n",
       "    }\n",
       "\n",
       "    .dataframe tbody tr th {\n",
       "        vertical-align: top;\n",
       "    }\n",
       "\n",
       "    .dataframe thead th {\n",
       "        text-align: right;\n",
       "    }\n",
       "</style>\n",
       "<table border=\"1\" class=\"dataframe\">\n",
       "  <thead>\n",
       "    <tr style=\"text-align: right;\">\n",
       "      <th></th>\n",
       "      <th>temperature</th>\n",
       "      <th>time</th>\n",
       "    </tr>\n",
       "  </thead>\n",
       "  <tbody>\n",
       "    <tr>\n",
       "      <th>0</th>\n",
       "      <td>13.0</td>\n",
       "      <td>2015-01-01 00:00:00</td>\n",
       "    </tr>\n",
       "    <tr>\n",
       "      <th>1</th>\n",
       "      <td>0.6</td>\n",
       "      <td>2015-01-01 03:00:00</td>\n",
       "    </tr>\n",
       "    <tr>\n",
       "      <th>2</th>\n",
       "      <td>0.4</td>\n",
       "      <td>2015-01-01 06:00:00</td>\n",
       "    </tr>\n",
       "    <tr>\n",
       "      <th>3</th>\n",
       "      <td>1.0</td>\n",
       "      <td>2015-01-01 09:00:00</td>\n",
       "    </tr>\n",
       "    <tr>\n",
       "      <th>4</th>\n",
       "      <td>1.4</td>\n",
       "      <td>2015-01-01 12:00:00</td>\n",
       "    </tr>\n",
       "    <tr>\n",
       "      <th>...</th>\n",
       "      <td>...</td>\n",
       "      <td>...</td>\n",
       "    </tr>\n",
       "    <tr>\n",
       "      <th>14345</th>\n",
       "      <td>5.8</td>\n",
       "      <td>2019-12-31 09:00:00</td>\n",
       "    </tr>\n",
       "    <tr>\n",
       "      <th>14346</th>\n",
       "      <td>7.3</td>\n",
       "      <td>2019-12-31 12:00:00</td>\n",
       "    </tr>\n",
       "    <tr>\n",
       "      <th>14347</th>\n",
       "      <td>7.0</td>\n",
       "      <td>2019-12-31 15:00:00</td>\n",
       "    </tr>\n",
       "    <tr>\n",
       "      <th>14348</th>\n",
       "      <td>2.2</td>\n",
       "      <td>2019-12-31 18:00:00</td>\n",
       "    </tr>\n",
       "    <tr>\n",
       "      <th>14349</th>\n",
       "      <td>0.4</td>\n",
       "      <td>2019-12-31 21:00:00</td>\n",
       "    </tr>\n",
       "  </tbody>\n",
       "</table>\n",
       "<p>14350 rows × 2 columns</p>\n",
       "</div>"
      ],
      "text/plain": [
       "       temperature                time\n",
       "0             13.0 2015-01-01 00:00:00\n",
       "1              0.6 2015-01-01 03:00:00\n",
       "2              0.4 2015-01-01 06:00:00\n",
       "3              1.0 2015-01-01 09:00:00\n",
       "4              1.4 2015-01-01 12:00:00\n",
       "...            ...                 ...\n",
       "14345          5.8 2019-12-31 09:00:00\n",
       "14346          7.3 2019-12-31 12:00:00\n",
       "14347          7.0 2019-12-31 15:00:00\n",
       "14348          2.2 2019-12-31 18:00:00\n",
       "14349          0.4 2019-12-31 21:00:00\n",
       "\n",
       "[14350 rows x 2 columns]"
      ]
     },
     "execution_count": 222,
     "metadata": {},
     "output_type": "execute_result"
    }
   ],
   "source": [
    "dataset = pd.DataFrame({\"temperature\":datalist,\"time\":timelist}) \n",
    "\n",
    "dataset['time'] = pd.to_datetime(dataset['time'], utc=True)\n",
    "dataset = (dataset.assign(d=dataset['time'].dt.date,\n",
    "                 t=dataset['time'].dt.time)\n",
    "         .sort_values(['d','t'], ascending=[True, True])\n",
    "         .drop(['d','t'], axis=1))\n",
    "\n",
    "dataset.sort_values(by=\"time\")\n",
    "list_temperature =dataset['temperature'].values\n",
    "list_datetime    =dataset['time'].values \n",
    "dataset = pd.DataFrame({\"temperature\":list_temperature,\"time\":list_datetime}) \n",
    "dataset"
   ]
  },
  {
   "cell_type": "code",
   "execution_count": 223,
   "metadata": {},
   "outputs": [],
   "source": [
    "import tensorflow as tf\n"
   ]
  },
  {
   "cell_type": "code",
   "execution_count": 224,
   "metadata": {},
   "outputs": [
    {
     "data": {
      "text/html": [
       "<div>\n",
       "<style scoped>\n",
       "    .dataframe tbody tr th:only-of-type {\n",
       "        vertical-align: middle;\n",
       "    }\n",
       "\n",
       "    .dataframe tbody tr th {\n",
       "        vertical-align: top;\n",
       "    }\n",
       "\n",
       "    .dataframe thead th {\n",
       "        text-align: right;\n",
       "    }\n",
       "</style>\n",
       "<table border=\"1\" class=\"dataframe\">\n",
       "  <thead>\n",
       "    <tr style=\"text-align: right;\">\n",
       "      <th></th>\n",
       "      <th>temperature</th>\n",
       "    </tr>\n",
       "  </thead>\n",
       "  <tbody>\n",
       "    <tr>\n",
       "      <th>0</th>\n",
       "      <td>13.0</td>\n",
       "    </tr>\n",
       "    <tr>\n",
       "      <th>1</th>\n",
       "      <td>0.6</td>\n",
       "    </tr>\n",
       "    <tr>\n",
       "      <th>2</th>\n",
       "      <td>0.4</td>\n",
       "    </tr>\n",
       "    <tr>\n",
       "      <th>3</th>\n",
       "      <td>1.0</td>\n",
       "    </tr>\n",
       "    <tr>\n",
       "      <th>4</th>\n",
       "      <td>1.4</td>\n",
       "    </tr>\n",
       "    <tr>\n",
       "      <th>...</th>\n",
       "      <td>...</td>\n",
       "    </tr>\n",
       "    <tr>\n",
       "      <th>14345</th>\n",
       "      <td>5.8</td>\n",
       "    </tr>\n",
       "    <tr>\n",
       "      <th>14346</th>\n",
       "      <td>7.3</td>\n",
       "    </tr>\n",
       "    <tr>\n",
       "      <th>14347</th>\n",
       "      <td>7.0</td>\n",
       "    </tr>\n",
       "    <tr>\n",
       "      <th>14348</th>\n",
       "      <td>2.2</td>\n",
       "    </tr>\n",
       "    <tr>\n",
       "      <th>14349</th>\n",
       "      <td>0.4</td>\n",
       "    </tr>\n",
       "  </tbody>\n",
       "</table>\n",
       "<p>14350 rows × 1 columns</p>\n",
       "</div>"
      ],
      "text/plain": [
       "       temperature\n",
       "0             13.0\n",
       "1              0.6\n",
       "2              0.4\n",
       "3              1.0\n",
       "4              1.4\n",
       "...            ...\n",
       "14345          5.8\n",
       "14346          7.3\n",
       "14347          7.0\n",
       "14348          2.2\n",
       "14349          0.4\n",
       "\n",
       "[14350 rows x 1 columns]"
      ]
     },
     "execution_count": 224,
     "metadata": {},
     "output_type": "execute_result"
    }
   ],
   "source": [
    "import numpy as np\n",
    "import matplotlib.pyplot as plt\n",
    "import pandas as pd\n",
    "from keras.models import Sequential\n",
    "from keras.layers import LSTM, Dense, Dropout, Bidirectional\n",
    "#DATA_DIR = './dataset/rainfall.csv'\n",
    "temperature_df = dataset[['temperature']]\n",
    "temperature_df"
   ]
  },
  {
   "cell_type": "code",
   "execution_count": 225,
   "metadata": {},
   "outputs": [],
   "source": [
    "train_split= 0.8\n",
    "split_idx = int(len(temperature_df) * 0.8)\n",
    "training_set = temperature_df[:split_idx].values\n",
    "test_set = temperature_df[split_idx:].values\n",
    "\n"
   ]
  },
  {
   "cell_type": "code",
   "execution_count": 241,
   "metadata": {},
   "outputs": [
    {
     "data": {
      "text/html": [
       "<div>\n",
       "<style scoped>\n",
       "    .dataframe tbody tr th:only-of-type {\n",
       "        vertical-align: middle;\n",
       "    }\n",
       "\n",
       "    .dataframe tbody tr th {\n",
       "        vertical-align: top;\n",
       "    }\n",
       "\n",
       "    .dataframe thead th {\n",
       "        text-align: right;\n",
       "    }\n",
       "</style>\n",
       "<table border=\"1\" class=\"dataframe\">\n",
       "  <thead>\n",
       "    <tr style=\"text-align: right;\">\n",
       "      <th></th>\n",
       "      <th>temperature</th>\n",
       "    </tr>\n",
       "  </thead>\n",
       "  <tbody>\n",
       "    <tr>\n",
       "      <th>0</th>\n",
       "      <td>13.0</td>\n",
       "    </tr>\n",
       "    <tr>\n",
       "      <th>1</th>\n",
       "      <td>0.6</td>\n",
       "    </tr>\n",
       "    <tr>\n",
       "      <th>2</th>\n",
       "      <td>0.4</td>\n",
       "    </tr>\n",
       "    <tr>\n",
       "      <th>3</th>\n",
       "      <td>1.0</td>\n",
       "    </tr>\n",
       "    <tr>\n",
       "      <th>4</th>\n",
       "      <td>1.4</td>\n",
       "    </tr>\n",
       "    <tr>\n",
       "      <th>...</th>\n",
       "      <td>...</td>\n",
       "    </tr>\n",
       "    <tr>\n",
       "      <th>14345</th>\n",
       "      <td>5.8</td>\n",
       "    </tr>\n",
       "    <tr>\n",
       "      <th>14346</th>\n",
       "      <td>7.3</td>\n",
       "    </tr>\n",
       "    <tr>\n",
       "      <th>14347</th>\n",
       "      <td>7.0</td>\n",
       "    </tr>\n",
       "    <tr>\n",
       "      <th>14348</th>\n",
       "      <td>2.2</td>\n",
       "    </tr>\n",
       "    <tr>\n",
       "      <th>14349</th>\n",
       "      <td>0.4</td>\n",
       "    </tr>\n",
       "  </tbody>\n",
       "</table>\n",
       "<p>14350 rows × 1 columns</p>\n",
       "</div>"
      ],
      "text/plain": [
       "       temperature\n",
       "0             13.0\n",
       "1              0.6\n",
       "2              0.4\n",
       "3              1.0\n",
       "4              1.4\n",
       "...            ...\n",
       "14345          5.8\n",
       "14346          7.3\n",
       "14347          7.0\n",
       "14348          2.2\n",
       "14349          0.4\n",
       "\n",
       "[14350 rows x 1 columns]"
      ]
     },
     "execution_count": 241,
     "metadata": {},
     "output_type": "execute_result"
    }
   ],
   "source": [
    "temperature_df"
   ]
  },
  {
   "cell_type": "code",
   "execution_count": 237,
   "metadata": {},
   "outputs": [],
   "source": [
    "# 5-observations prediction using 30 days data\n",
    "x_train = []\n",
    "y_train = []\n",
    "n_future = 4 #Next 5 observations temperature forecast\n",
    "n_past = 6 #Past 30 observations\n",
    "for i in range(0, len(training_set) - n_past - n_future + 1):\n",
    "    x_train.append(training_set[i : i + n_past, 0])\n",
    "    y_train.append(training_set[i + n_past : i + n_past + n_future, 0])\n"
   ]
  },
  {
   "cell_type": "code",
   "execution_count": 228,
   "metadata": {},
   "outputs": [],
   "source": [
    "x_train , y_train = np.array(x_train), np.array(y_train)\n",
    "x_train = np.reshape(x_train, (x_train.shape[0] , x_train.shape[1], 1))"
   ]
  },
  {
   "cell_type": "code",
   "execution_count": 244,
   "metadata": {},
   "outputs": [
    {
     "data": {
      "image/png": "[encoded data removed]",
      "text/plain": [
       "<Figure size 432x288 with 1 Axes>"
      ]
     },
     "metadata": {
      "needs_background": "light"
     },
     "output_type": "display_data"
    }
   ],
   "source": [
    "x_axis = range(len(temperature_df.values))\n",
    "plt.figure()\n",
    "plt.plot(x_axis, temperature_df.values, \"b\", label=\"Data Visualization\")\n",
    "\n",
    "plt.title(\"Data Visualization\")\n",
    "plt.xlabel(\"TimeLines\")\n",
    "plt.ylabel(\"Temperature\")\n",
    "plt.legend()\n",
    "plt.show()"
   ]
  },
  {
   "cell_type": "code",
   "execution_count": 229,
   "metadata": {
    "scrolled": true
   },
   "outputs": [
    {
     "name": "stdout",
     "output_type": "stream",
     "text": [
      "Epoch 1/25\n",
      "717/717 [==============================] - 15s 8ms/step - loss: 115.7747 - acc: 0.2414\n",
      "Epoch 2/25\n",
      "717/717 [==============================] - 6s 8ms/step - loss: 24.7114 - acc: 0.3867\n",
      "Epoch 3/25\n",
      "717/717 [==============================] - 6s 8ms/step - loss: 16.8117 - acc: 0.5986\n",
      "Epoch 4/25\n",
      "717/717 [==============================] - 6s 8ms/step - loss: 14.3731 - acc: 0.6390\n",
      "Epoch 5/25\n",
      "717/717 [==============================] - 6s 8ms/step - loss: 13.1256 - acc: 0.6852\n",
      "Epoch 6/25\n",
      "717/717 [==============================] - 6s 8ms/step - loss: 12.1895 - acc: 0.6987\n",
      "Epoch 7/25\n",
      "717/717 [==============================] - 6s 8ms/step - loss: 11.8450 - acc: 0.7116\n",
      "Epoch 8/25\n",
      "717/717 [==============================] - 6s 8ms/step - loss: 11.5412 - acc: 0.7061\n",
      "Epoch 9/25\n",
      "717/717 [==============================] - 6s 8ms/step - loss: 11.2733 - acc: 0.7254\n",
      "Epoch 10/25\n",
      "717/717 [==============================] - 6s 8ms/step - loss: 11.1435 - acc: 0.7242\n",
      "Epoch 11/25\n",
      "717/717 [==============================] - 6s 8ms/step - loss: 11.3612 - acc: 0.7227\n",
      "Epoch 12/25\n",
      "717/717 [==============================] - 6s 8ms/step - loss: 10.8798 - acc: 0.7316\n",
      "Epoch 13/25\n",
      "717/717 [==============================] - 6s 8ms/step - loss: 11.1099 - acc: 0.7253\n",
      "Epoch 14/25\n",
      "717/717 [==============================] - 6s 8ms/step - loss: 11.0772 - acc: 0.7326\n",
      "Epoch 15/25\n",
      "717/717 [==============================] - 6s 8ms/step - loss: 11.1539 - acc: 0.7344\n",
      "Epoch 16/25\n",
      "717/717 [==============================] - 6s 8ms/step - loss: 10.6966 - acc: 0.7398\n",
      "Epoch 17/25\n",
      "717/717 [==============================] - 6s 8ms/step - loss: 10.5393 - acc: 0.7403\n",
      "Epoch 18/25\n",
      "717/717 [==============================] - 6s 8ms/step - loss: 10.8591 - acc: 0.7454\n",
      "Epoch 19/25\n",
      "717/717 [==============================] - 6s 8ms/step - loss: 10.7286 - acc: 0.7387\n",
      "Epoch 20/25\n",
      "717/717 [==============================] - 6s 8ms/step - loss: 10.6089 - acc: 0.7376\n",
      "Epoch 21/25\n",
      "717/717 [==============================] - 6s 8ms/step - loss: 10.4753 - acc: 0.7412\n",
      "Epoch 22/25\n",
      "717/717 [==============================] - 6s 8ms/step - loss: 10.1886 - acc: 0.7427\n",
      "Epoch 23/25\n",
      "717/717 [==============================] - 6s 8ms/step - loss: 10.1058 - acc: 0.7553\n",
      "Epoch 24/25\n",
      "717/717 [==============================] - 6s 8ms/step - loss: 10.4620 - acc: 0.7353\n",
      "Epoch 25/25\n",
      "717/717 [==============================] - 6s 8ms/step - loss: 10.2702 - acc: 0.7431\n"
     ]
    },
    {
     "data": {
      "text/plain": [
       "<tensorflow.python.keras.callbacks.History at 0x1e203cb32b0>"
      ]
     },
     "execution_count": 229,
     "metadata": {},
     "output_type": "execute_result"
    }
   ],
   "source": [
    "EPOCHS = 25\n",
    "BATCH_SIZE= 16\n",
    "UNITS = 40\n",
    "regressor = Sequential()\n",
    "regressor.add(Bidirectional(LSTM(units=UNITS, return_sequences=True, input_shape = (x_train.shape[1], 1))))\n",
    "regressor.add(Dropout(0.2))\n",
    "regressor.add(LSTM(units= UNITS, return_sequences=True))\n",
    "regressor.add(Dropout(0.2))\n",
    "regressor.add(LSTM(units= UNITS, return_sequences=True))\n",
    "regressor.add(Dropout(0.2))\n",
    "regressor.add(LSTM(units= UNITS))\n",
    "regressor.add(Dropout(0.2))\n",
    "regressor.add(Dense(units = n_future, activation='relu'))\n",
    "regressor.compile(optimizer='adam', loss='mean_squared_error', metrics=['acc'])\n",
    "regressor.fit(x_train, y_train, epochs=EPOCHS, batch_size=BATCH_SIZE)"
   ]
  },
  {
   "cell_type": "code",
   "execution_count": 230,
   "metadata": {},
   "outputs": [
    {
     "data": {
      "image/png": "[encoded data removed]",
      "text/plain": [
       "<Figure size 432x288 with 1 Axes>"
      ]
     },
     "metadata": {
      "needs_background": "light"
     },
     "output_type": "display_data"
    }
   ],
   "source": [
    "def visualize_loss(history, title):\n",
    "    loss = history.history[\"loss\"]\n",
    "   \n",
    "    epochs = range(len(loss))\n",
    "    plt.figure()\n",
    "    plt.plot(epochs, loss, \"b\", label=\"Training loss\")\n",
    "    \n",
    "    plt.title(title)\n",
    "    plt.xlabel(\"Epochs\")\n",
    "    plt.ylabel(\"Loss\")\n",
    "    plt.legend()\n",
    "    plt.show()\n",
    "\n",
    "\n",
    "visualize_loss(regressor.history, \"Training Loss\")"
   ]
  },
  {
   "cell_type": "code",
   "execution_count": 231,
   "metadata": {},
   "outputs": [
    {
     "name": "stdout",
     "output_type": "stream",
     "text": [
      "WARNING:tensorflow:7 out of the last 19 calls to <function Model.make_predict_function.<locals>.predict_function at 0x000001E2B18E0EE0> triggered tf.function retracing. Tracing is expensive and the excessive number of tracings could be due to (1) creating @tf.function repeatedly in a loop, (2) passing tensors with different shapes, (3) passing Python objects instead of tensors. For (1), please define your @tf.function outside of the loop. For (2), @tf.function has experimental_relax_shapes=True option that relaxes argument shapes that can avoid unnecessary retracing. For (3), please refer to https://www.tensorflow.org/guide/function#controlling_retracing and https://www.tensorflow.org/api_docs/python/tf/function for  more details.\n",
      "Predicted temperature [[5.0998626 6.147852  6.0192556 4.8171134]]\n",
      "Real temperature [3.6 4.  3.3 1.9]\n"
     ]
    }
   ],
   "source": [
    "x_test = test_set[: n_past, 0]\n",
    "y_test = test_set[n_past : n_past + n_future, 0]\n",
    "x_test, y_test = np.array(x_test), np.array(y_test)\n",
    "x_test = np.reshape(x_test, (1, x_test.shape[0], 1))\n",
    "predicted_temperature = regressor.predict(x_test)\n",
    "print('Predicted temperature {}'.format(predicted_temperature))\n",
    "print('Real temperature {}'.format(y_test))\n"
   ]
  },
  {
   "cell_type": "code",
   "execution_count": 232,
   "metadata": {},
   "outputs": [
    {
     "data": {
      "image/png": "[encoded data removed]",
      "text/plain": [
       "<Figure size 432x288 with 1 Axes>"
      ]
     },
     "metadata": {
      "needs_background": "light"
     },
     "output_type": "display_data"
    }
   ],
   "source": [
    "def visualize_temerature_trend(prediction,real,range_val, title):\n",
    "    prediction_val = prediction\n",
    "    real_val       = real\n",
    "    range_val = range_val\n",
    "    plt.figure()\n",
    "    plt.plot(range(range_val), prediction_val, \"b\", label=\"Prediction Distribution\")\n",
    "    plt.plot(range(range_val), real_val, \"r\", label=\"Real Temperature Distribution\")\n",
    "    plt.title(title)\n",
    "    plt.xlabel(\"samples\")\n",
    "    plt.ylabel(\"Temperature\")\n",
    "    plt.legend()\n",
    "    plt.show()\n",
    "\n",
    "\n",
    "visualize_temerature_trend(predicted_temperature[0],y_test,4, \"Prediction Vs Real Distribution\")"
   ]
  },
  {
   "cell_type": "code",
   "execution_count": 235,
   "metadata": {},
   "outputs": [
    {
     "name": "stdout",
     "output_type": "stream",
     "text": [
      "WARNING:tensorflow:9 out of the last 21 calls to <function Model.make_predict_function.<locals>.predict_function at 0x000001E2B18E0EE0> triggered tf.function retracing. Tracing is expensive and the excessive number of tracings could be due to (1) creating @tf.function repeatedly in a loop, (2) passing tensors with different shapes, (3) passing Python objects instead of tensors. For (1), please define your @tf.function outside of the loop. For (2), @tf.function has experimental_relax_shapes=True option that relaxes argument shapes that can avoid unnecessary retracing. For (3), please refer to https://www.tensorflow.org/guide/function#controlling_retracing and https://www.tensorflow.org/api_docs/python/tf/function for  more details.\n"
     ]
    }
   ],
   "source": [
    "last_five_observations =np.array([7,8,8,9,10,9,7,5,2,4,5])\n",
    "last_five_observations = np.reshape(last_five_observations, (1, last_five_observations.shape[0], 1))\n",
    "predicted_temperature = regressor.predict(last_five_observations)\n"
   ]
  },
  {
   "cell_type": "code",
   "execution_count": 236,
   "metadata": {},
   "outputs": [
    {
     "data": {
      "image/png": "[encoded data removed]",
      "text/plain": [
       "<Figure size 432x288 with 1 Axes>"
      ]
     },
     "metadata": {
      "needs_background": "light"
     },
     "output_type": "display_data"
    }
   ],
   "source": [
    "visualize_temerature_trend(predicted_temperature[0],[5,5,4,3],4, \"Prediction Vs Real Distribution\")"
   ]
  }
 ],
 "metadata": {
  "kernelspec": {
   "display_name": "Python 3",
   "language": "python",
   "name": "python3"
  },
  "language_info": {
   "codemirror_mode": {
    "name": "ipython",
    "version": 3
   },
   "file_extension": ".py",
   "mimetype": "text/x-python",
   "name": "python",
   "nbconvert_exporter": "python",
   "pygments_lexer": "ipython3",
   "version": "3.8.3"
  }
 },
 "nbformat": 4,
 "nbformat_minor": 4
}
